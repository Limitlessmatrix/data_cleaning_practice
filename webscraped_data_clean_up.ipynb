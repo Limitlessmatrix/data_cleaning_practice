{
 "cells": [
  {
   "cell_type": "code",
   "execution_count": 5,
   "metadata": {},
   "outputs": [],
   "source": [
    "import pandas as pd\n",
    "import numpy as np"
   ]
  },
  {
   "cell_type": "code",
   "execution_count": 14,
   "metadata": {},
   "outputs": [],
   "source": [
    "amazon_mask_data = pd.read_csv(r'C:\\Users\\Admin\\Downloads\\amazon_mask_prices_08_03_2020.csv')"
   ]
  },
  {
   "cell_type": "code",
   "execution_count": 15,
   "metadata": {},
   "outputs": [
    {
     "name": "stdout",
     "output_type": "stream",
     "text": [
      "                                              Product Price  \\\n",
      "0                                                 NaN   NaN   \n",
      "1                                                 NaN   NaN   \n",
      "2   Levi's Re-Usable Reversible Face Mask (Pack of 3)   NaN   \n",
      "3               Jointown Face Mask, Pack of 50 (5081)    26   \n",
      "4   EnerPlex Premium 3-Ply Reusable Face Mask Avai...    18   \n",
      "..                                                ...   ...   \n",
      "57  3pcs/Pack Dust Masks Breathable Reusable for O...    11   \n",
      "58     Disposable Masks 1000 pcs Bellaterra Cosmetics   320   \n",
      "59                                                NaN   NaN   \n",
      "60                                                NaN   NaN   \n",
      "61                                         Need help?   NaN   \n",
      "\n",
      "                                             Pictures Item URL  \n",
      "0   https://m.media-amazon.com/images/G/01/SearchE...      NaN  \n",
      "1                                                 NaN      NaN  \n",
      "2   https://m.media-amazon.com/images/I/51Nzlq4r71...      NaN  \n",
      "3   https://m.media-amazon.com/images/I/41AdNsg6xi...      NaN  \n",
      "4   https://m.media-amazon.com/images/I/71DB63Lrkq...      NaN  \n",
      "..                                                ...      ...  \n",
      "57  https://m.media-amazon.com/images/I/61BJwnT-ck...      NaN  \n",
      "58  https://m.media-amazon.com/images/I/81bhldCbtf...      NaN  \n",
      "59                                                NaN      NaN  \n",
      "60  https://m.media-amazon.com/images/I/81FcgfvKrk...      NaN  \n",
      "61                                                NaN      NaN  \n",
      "\n",
      "[62 rows x 4 columns]\n"
     ]
    }
   ],
   "source": [
    "print(amazon_mask_data)"
   ]
  },
  {
   "cell_type": "code",
   "execution_count": 20,
   "metadata": {},
   "outputs": [
    {
     "data": {
      "text/html": [
       "<div>\n",
       "<style scoped>\n",
       "    .dataframe tbody tr th:only-of-type {\n",
       "        vertical-align: middle;\n",
       "    }\n",
       "\n",
       "    .dataframe tbody tr th {\n",
       "        vertical-align: top;\n",
       "    }\n",
       "\n",
       "    .dataframe thead th {\n",
       "        text-align: right;\n",
       "    }\n",
       "</style>\n",
       "<table border=\"1\" class=\"dataframe\">\n",
       "  <thead>\n",
       "    <tr style=\"text-align: right;\">\n",
       "      <th></th>\n",
       "      <th>Product</th>\n",
       "      <th>Price</th>\n",
       "      <th>Pictures</th>\n",
       "      <th>Item URL</th>\n",
       "    </tr>\n",
       "  </thead>\n",
       "  <tbody>\n",
       "    <tr>\n",
       "      <td>0</td>\n",
       "      <td>NaN</td>\n",
       "      <td>NaN</td>\n",
       "      <td>https://m.media-amazon.com/images/G/01/SearchE...</td>\n",
       "      <td>NaN</td>\n",
       "    </tr>\n",
       "    <tr>\n",
       "      <td>1</td>\n",
       "      <td>NaN</td>\n",
       "      <td>NaN</td>\n",
       "      <td>NaN</td>\n",
       "      <td>NaN</td>\n",
       "    </tr>\n",
       "    <tr>\n",
       "      <td>2</td>\n",
       "      <td>Levi's Re-Usable Reversible Face Mask (Pack of 3)</td>\n",
       "      <td>NaN</td>\n",
       "      <td>https://m.media-amazon.com/images/I/51Nzlq4r71...</td>\n",
       "      <td>NaN</td>\n",
       "    </tr>\n",
       "    <tr>\n",
       "      <td>3</td>\n",
       "      <td>Jointown Face Mask, Pack of 50 (5081)</td>\n",
       "      <td>26</td>\n",
       "      <td>https://m.media-amazon.com/images/I/41AdNsg6xi...</td>\n",
       "      <td>NaN</td>\n",
       "    </tr>\n",
       "    <tr>\n",
       "      <td>4</td>\n",
       "      <td>EnerPlex Premium 3-Ply Reusable Face Mask Avai...</td>\n",
       "      <td>18</td>\n",
       "      <td>https://m.media-amazon.com/images/I/71DB63Lrkq...</td>\n",
       "      <td>NaN</td>\n",
       "    </tr>\n",
       "  </tbody>\n",
       "</table>\n",
       "</div>"
      ],
      "text/plain": [
       "                                             Product Price  \\\n",
       "0                                                NaN   NaN   \n",
       "1                                                NaN   NaN   \n",
       "2  Levi's Re-Usable Reversible Face Mask (Pack of 3)   NaN   \n",
       "3              Jointown Face Mask, Pack of 50 (5081)    26   \n",
       "4  EnerPlex Premium 3-Ply Reusable Face Mask Avai...    18   \n",
       "\n",
       "                                            Pictures Item URL  \n",
       "0  https://m.media-amazon.com/images/G/01/SearchE...      NaN  \n",
       "1                                                NaN      NaN  \n",
       "2  https://m.media-amazon.com/images/I/51Nzlq4r71...      NaN  \n",
       "3  https://m.media-amazon.com/images/I/41AdNsg6xi...      NaN  \n",
       "4  https://m.media-amazon.com/images/I/71DB63Lrkq...      NaN  "
      ]
     },
     "execution_count": 20,
     "metadata": {},
     "output_type": "execute_result"
    }
   ],
   "source": [
    "amazon_mask_data.head()"
   ]
  },
  {
   "cell_type": "code",
   "execution_count": 28,
   "metadata": {},
   "outputs": [
    {
     "data": {
      "text/html": [
       "<div>\n",
       "<style scoped>\n",
       "    .dataframe tbody tr th:only-of-type {\n",
       "        vertical-align: middle;\n",
       "    }\n",
       "\n",
       "    .dataframe tbody tr th {\n",
       "        vertical-align: top;\n",
       "    }\n",
       "\n",
       "    .dataframe thead th {\n",
       "        text-align: right;\n",
       "    }\n",
       "</style>\n",
       "<table border=\"1\" class=\"dataframe\">\n",
       "  <thead>\n",
       "    <tr style=\"text-align: right;\">\n",
       "      <th></th>\n",
       "      <th>Product</th>\n",
       "      <th>Price</th>\n",
       "      <th>Pictures</th>\n",
       "      <th>Item URL</th>\n",
       "    </tr>\n",
       "  </thead>\n",
       "  <tbody>\n",
       "    <tr>\n",
       "      <td>12</td>\n",
       "      <td>AstroAI Reusable Dust Face Mask with Filters -...</td>\n",
       "      <td>22. 8. 5. 19.</td>\n",
       "      <td>https://www.amazon.com/avatar/default/amzn1.ac...</td>\n",
       "      <td>https://www.amazon.com/AstroAI-Reusable-Dust-F...</td>\n",
       "    </tr>\n",
       "  </tbody>\n",
       "</table>\n",
       "</div>"
      ],
      "text/plain": [
       "                                              Product          Price  \\\n",
       "12  AstroAI Reusable Dust Face Mask with Filters -...  22. 8. 5. 19.   \n",
       "\n",
       "                                             Pictures  \\\n",
       "12  https://www.amazon.com/avatar/default/amzn1.ac...   \n",
       "\n",
       "                                             Item URL  \n",
       "12  https://www.amazon.com/AstroAI-Reusable-Dust-F...  "
      ]
     },
     "execution_count": 28,
     "metadata": {},
     "output_type": "execute_result"
    }
   ],
   "source": [
    "amazon_mask_data.dropna()"
   ]
  },
  {
   "cell_type": "code",
   "execution_count": null,
   "metadata": {},
   "outputs": [],
   "source": []
  }
 ],
 "metadata": {
  "kernelspec": {
   "display_name": "Python 3",
   "language": "python",
   "name": "python3"
  },
  "language_info": {
   "codemirror_mode": {
    "name": "ipython",
    "version": 3
   },
   "file_extension": ".py",
   "mimetype": "text/x-python",
   "name": "python",
   "nbconvert_exporter": "python",
   "pygments_lexer": "ipython3",
   "version": "3.7.4"
  }
 },
 "nbformat": 4,
 "nbformat_minor": 4
}
